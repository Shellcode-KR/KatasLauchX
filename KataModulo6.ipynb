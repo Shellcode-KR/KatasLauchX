{
 "cells": [
  {
   "cell_type": "markdown",
   "metadata": {},
   "source": [
    "# Ejercicio 1: Crear y usar listas de Python\n"
   ]
  },
  {
   "cell_type": "markdown",
   "metadata": {},
   "source": [
    "En primer lugar, crea una variable denominada planets. Agrega los ocho planetas (sin Plutón) a la lista. A continuación, muestra el número de planetas.\n",
    "\n"
   ]
  },
  {
   "cell_type": "code",
   "execution_count": 4,
   "metadata": {},
   "outputs": [
    {
     "name": "stdout",
     "output_type": "stream",
     "text": [
      "8\n"
     ]
    }
   ],
   "source": [
    "planets= [\"Mercurio\",\"Venus\",\"Tierra\",\"Marte\",\"Jupiter\",\"Saturno\",\"Urano\",\"Neptuno\"]\n",
    "print(len(planets))"
   ]
  },
  {
   "cell_type": "markdown",
   "metadata": {},
   "source": [
    "Agrega a Plutón a la lista que creaste. Luego muestra tanto el número de planetas como el último planeta de la lista.\n",
    "\n"
   ]
  },
  {
   "cell_type": "code",
   "execution_count": 5,
   "metadata": {},
   "outputs": [
    {
     "name": "stdout",
     "output_type": "stream",
     "text": [
      "Pluton\n"
     ]
    }
   ],
   "source": [
    "planets.append(\"Pluton\")\n",
    "print(planets[-1])"
   ]
  },
  {
   "cell_type": "markdown",
   "metadata": {},
   "source": [
    "# Ejercicio 2: Trabajando con datos de una lista\n",
    "A continuación, agrega el código para solicitar al usuario un nombre. Debido a que las cadenas distinguen entre mayúsculas y minúsculas en Python, pídale al usuario que use una letra mayúscula para comenzar el nombre del planeta."
   ]
  },
  {
   "cell_type": "code",
   "execution_count": 8,
   "metadata": {},
   "outputs": [
    {
     "name": "stdout",
     "output_type": "stream",
     "text": [
      "Se mostraran los planetas mas cercanos al sol que el planeta indicado\n",
      "['Mercurio', 'Venus', 'Tierra', 'Marte']\n",
      "A continuacion se muestran planetas mas alejados del sol que el indicado\n",
      "['Jupiter', 'Saturno', 'Urano', 'Neptuno', 'Pluton']\n"
     ]
    }
   ],
   "source": [
    "# pedir un planeta al usuario empesando con mayusculas\n",
    "planetaUsuario= input(\"Escribe el nombre de un planeta empezando con mayusculas\")\n",
    "# buscar el planeta en la lista\n",
    "indexPlanetUsuario= planets.index(planetaUsuario)\n",
    "print(\"Se mostraran los planetas mas cercanos al sol que el planeta indicado\")\n",
    "planetasMasCercanos=planets[0:indexPlanetUsuario]\n",
    "print(planetasMasCercanos)\n",
    "\n",
    "print(\"A continuacion se muestran planetas mas alejados del sol que el indicado\")\n",
    "planetasMasLejanos=planets[indexPlanetUsuario:]\n",
    "print(planetasMasLejanos)\n"
   ]
  }
 ],
 "metadata": {
  "interpreter": {
   "hash": "17b7ef03bb997f3708b40da8c610f4c0d19edf2a85bf899e15d912f9686d9789"
  },
  "kernelspec": {
   "display_name": "Python 3.9.5 64-bit",
   "language": "python",
   "name": "python3"
  },
  "language_info": {
   "codemirror_mode": {
    "name": "ipython",
    "version": 3
   },
   "file_extension": ".py",
   "mimetype": "text/x-python",
   "name": "python",
   "nbconvert_exporter": "python",
   "pygments_lexer": "ipython3",
   "version": "3.9.5"
  },
  "orig_nbformat": 4
 },
 "nbformat": 4,
 "nbformat_minor": 2
}
