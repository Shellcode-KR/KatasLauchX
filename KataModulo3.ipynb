{
 "cells": [
  {
   "cell_type": "markdown",
   "metadata": {},
   "source": [
    "# Escribir declaraciones if, else, y elif\n",
    "\n",
    "Para este ejercicio, escribirás una lógica condicional que imprima una advertencia si un asteroide se acerca a la Tierra demasiado rápido. La velocidad del asteroide varía dependiendo de lo cerca que esté del sol, y cualquier velocidad superior a 25 kilómetros por segundo (km/s) merece una advertencia."
   ]
  },
  {
   "cell_type": "code",
   "execution_count": 3,
   "metadata": {},
   "outputs": [
    {
     "name": "stdout",
     "output_type": "stream",
     "text": [
      "Advertencia el asteroide tiene una velocidad de 49, es peligroso\n"
     ]
    }
   ],
   "source": [
    "velocidadDeAsteriode = int(input(\"Introduce la velocidad del asteroide en Km/h\"))\n",
    "if(velocidadDeAsteriode>25):\n",
    "    print(\"Advertencia el asteroide tiene una velocidad de \"+str(velocidadDeAsteriode)+\", es peligroso\")"
   ]
  },
  {
   "cell_type": "markdown",
   "metadata": {},
   "source": [
    "Si un asteroide entra en la atmósfera de la Tierra a una velocidad mayor o igual a 20 km/s, a veces produce un rayo de luz que se puede ver desde la Tierra. Escribe la lógica condicional que usa declaraciones if, else, y elif para alertar a las personas de todo el mundo que deben buscar un asteroide en el cielo. ¡Hay uno que se dirige a la tierra ahora a una velocidad de 19 km/s!"
   ]
  },
  {
   "cell_type": "code",
   "execution_count": 4,
   "metadata": {},
   "outputs": [
    {
     "name": "stdout",
     "output_type": "stream",
     "text": [
      "Hay un asteroide en el cielo, se aproxima a la tierra a 22\n"
     ]
    }
   ],
   "source": [
    "velocidadDeAsteriode = int(input(\"Introduce la velocidad del asteroide en Km/h\"))\n",
    "if(velocidadDeAsteriode>25):\n",
    "    print(\"Advertencia el asteroide tiene una velocidad de \"+str(velocidadDeAsteriode)+\", es peligroso\")\n",
    "elif(velocidadDeAsteriode>=20):\n",
    "    print(\"Hay un asteroide en el cielo, se aproxima a la tierra a \"+str(velocidadDeAsteriode))\n",
    "else:\n",
    "    print(\"Sin noticias\")"
   ]
  },
  {
   "cell_type": "markdown",
   "metadata": {},
   "source": [
    "# Uso de operadores and  y or \n",
    "\n",
    "En este ejercicio, aprenderás información más matizada sobre cuándo los asteroides representan un peligro para la Tierra, y utilizarás esa información para mejorar nuestro sistema de advertencia. Aquí está la nueva información que necesitas saber:"
   ]
  },
  {
   "cell_type": "code",
   "execution_count": null,
   "metadata": {},
   "outputs": [],
   "source": [
    "velocidadDeAsteriode = int(input(\"Introduce la velocidad del asteroide en Km/h\"))\n",
    "tamañoAsteroide = int(input(\"Introduce el tamaño del asteroide en metros\"))\n",
    "if(velocidadDeAsteriode>25 and tamañoAsteroide>25):\n",
    "    print(\"Advertencia, se acerca un asteoride a la tierra, es peligroso\")\n",
    "elif(velocidadDeAsteriode>=20):\n",
    "    print(\"Hay un asteroide en el cielo, se aproxima a la tierra a \"+str(velocidadDeAsteriode))\n",
    "else:\n",
    "    print(\"Sin noticias\")"
   ]
  }
 ],
 "metadata": {
  "interpreter": {
   "hash": "17b7ef03bb997f3708b40da8c610f4c0d19edf2a85bf899e15d912f9686d9789"
  },
  "kernelspec": {
   "display_name": "Python 3.9.5 64-bit",
   "language": "python",
   "name": "python3"
  },
  "language_info": {
   "codemirror_mode": {
    "name": "ipython",
    "version": 3
   },
   "file_extension": ".py",
   "mimetype": "text/x-python",
   "name": "python",
   "nbconvert_exporter": "python",
   "pygments_lexer": "ipython3",
   "version": "3.9.5"
  },
  "orig_nbformat": 4
 },
 "nbformat": 4,
 "nbformat_minor": 2
}
