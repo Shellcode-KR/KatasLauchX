{
 "cells": [
  {
   "cell_type": "markdown",
   "metadata": {},
   "source": [
    "# Ejercicio 1 - Utilizar operadores aritméticos\n",
    "Exploremos cómo podemos crear un programa que pueda calcular la distancia entre dos planetas. Comenzaremos usando dos distancias de planetas: Tierra (149.597.870 km) y Júpiter (778.547.200 km)."
   ]
  },
  {
   "cell_type": "code",
   "execution_count": 1,
   "metadata": {},
   "outputs": [],
   "source": [
    "##dostamcoas em kilometros\n",
    "distanciaTierra_Sol = 149597870\n",
    "distanciaJupiter_Sol = 778547200\n"
   ]
  },
  {
   "cell_type": "markdown",
   "metadata": {},
   "source": [
    "calcular la distancia entre planetas"
   ]
  },
  {
   "cell_type": "code",
   "execution_count": 3,
   "metadata": {},
   "outputs": [
    {
     "name": "stdout",
     "output_type": "stream",
     "text": [
      "Distancia entre planetas en kilometros\n",
      "628949330\n",
      "Distancia entre planetas en millas\n",
      "390577533.93\n"
     ]
    }
   ],
   "source": [
    "print(\"Distancia entre planetas en kilometros\")\n",
    "print(abs(distanciaTierra_Sol-distanciaJupiter_Sol))\n",
    "\n",
    "print(\"Distancia entre planetas en millas\")\n",
    "print(abs((distanciaTierra_Sol-distanciaJupiter_Sol)*0.621))"
   ]
  },
  {
   "cell_type": "markdown",
   "metadata": {},
   "source": [
    "# Ejercicio 2: convierte cadenas en números y usa valores absolutos"
   ]
  },
  {
   "cell_type": "markdown",
   "metadata": {},
   "source": [
    "Para crear nuestra aplicación, queremos leer la distancia del sol para dos planetas, y luego mostrar la distancia entre los planetas. Haremos esto usando input para leer los valores, int para convertir a entero y luego abs para convertir el resultado en su valor absoluto."
   ]
  },
  {
   "cell_type": "code",
   "execution_count": 4,
   "metadata": {},
   "outputs": [
    {
     "name": "stdout",
     "output_type": "stream",
     "text": [
      "Distancia entre planetas en kilometros\n",
      "100000\n",
      "Distancia entre planetas en millas\n",
      "62100.0\n"
     ]
    }
   ],
   "source": [
    "planeta1 = input(\"Escribe la distancia al sol del primer planeta en kilometros\")\n",
    "planeta2 = input(\"Escribe la distancia al sol del segundo planeta en kilometros\")\n",
    "\n",
    "distanciaP1= int(planeta1)\n",
    "distanciaP2= int(planeta2)\n",
    "\n",
    "print(\"Distancia entre planetas en kilometros\")\n",
    "print(abs(distanciaP1-distanciaP2))\n",
    "\n",
    "print(\"Distancia entre planetas en millas\")\n",
    "print(abs((distanciaP1-distanciaP2)*0.621))"
   ]
  }
 ],
 "metadata": {
  "interpreter": {
   "hash": "17b7ef03bb997f3708b40da8c610f4c0d19edf2a85bf899e15d912f9686d9789"
  },
  "kernelspec": {
   "display_name": "Python 3.9.5 64-bit",
   "language": "python",
   "name": "python3"
  },
  "language_info": {
   "codemirror_mode": {
    "name": "ipython",
    "version": 3
   },
   "file_extension": ".py",
   "mimetype": "text/x-python",
   "name": "python",
   "nbconvert_exporter": "python",
   "pygments_lexer": "ipython3",
   "version": "3.9.5"
  },
  "orig_nbformat": 4
 },
 "nbformat": 4,
 "nbformat_minor": 2
}
