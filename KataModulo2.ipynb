{
 "cells": [
  {
   "cell_type": "markdown",
   "metadata": {},
   "source": [
    "# Creación de un entorno virtual\n",
    "\n",
    "Para hacerlo ejecute el siguiente comando en terminal  ``python -m venv env``  el cual creara un directorio con el nombre que le dimos\n"
   ]
  },
  {
   "cell_type": "markdown",
   "metadata": {},
   "source": [
    "![1.png](https://raw.githubusercontent.com/Shellcode-KR/KatasLauchX/main/imagenes%20kata%202/1.png)"
   ]
  },
  {
   "cell_type": "markdown",
   "metadata": {},
   "source": [
    "# Activar el entorno virtual\n",
    "\n",
    "para hacerlo nos movemos dentro del directorio creado en la carpeta bin o scrips y ejecutamos el comando ``activate``"
   ]
  },
  {
   "cell_type": "markdown",
   "metadata": {},
   "source": [
    "![2.png](https://raw.githubusercontent.com/Shellcode-KR/KatasLauchX/main/imagenes%20kata%202/2.png)"
   ]
  },
  {
   "cell_type": "markdown",
   "metadata": {},
   "source": [
    "ahora al principio de la linea de comando vemos que dice ``env``\n",
    "significa que hemos activado el entorno virtual  y se aislo del resto de la computadora"
   ]
  },
  {
   "cell_type": "markdown",
   "metadata": {},
   "source": [
    "# Instalacion de una biblioteca\n",
    "para instalar una biblioteca usamos el siguiente comando ``pip install``    en este caso instalaremos la biblioteca llamada ``python-dateutil``.\n",
    "Ejecutamos el comando ``pip install python-dateutil``"
   ]
  },
  {
   "cell_type": "markdown",
   "metadata": {},
   "source": [
    "![3.png](https://raw.githubusercontent.com/Shellcode-KR/KatasLauchX/main/imagenes%20kata%202/3.png)"
   ]
  },
  {
   "cell_type": "markdown",
   "metadata": {},
   "source": [
    "con el comando ```freeze`` podemos ver las bibliotecas que tenemos instaladas\n",
    "\n",
    "![4.png](https://raw.githubusercontent.com/Shellcode-KR/KatasLauchX/main/imagenes%20kata%202/4.png)"
   ]
  },
  {
   "cell_type": "markdown",
   "metadata": {},
   "source": [
    "# Desactivar un entorno virtual\n",
    "\n",
    "para salir del entorno virtual ejecutamos el comando ``deactivate``"
   ]
  },
  {
   "cell_type": "markdown",
   "metadata": {},
   "source": [
    "![5.png](https://raw.githubusercontent.com/Shellcode-KR/KatasLauchX/main/imagenes%20kata%202/5.png)"
   ]
  },
  {
   "cell_type": "markdown",
   "metadata": {},
   "source": [
    "y asi hemos logrado salir del entorno virtual\n",
    "\n",
    "estoy feliz de terminar esta kata yaque aprendi varias cosas"
   ]
  }
 ],
 "metadata": {
  "interpreter": {
   "hash": "17b7ef03bb997f3708b40da8c610f4c0d19edf2a85bf899e15d912f9686d9789"
  },
  "kernelspec": {
   "display_name": "Python 3.9.5 64-bit",
   "language": "python",
   "name": "python3"
  },
  "language_info": {
   "name": "python",
   "version": "3.9.5"
  },
  "orig_nbformat": 4
 },
 "nbformat": 4,
 "nbformat_minor": 2
}
